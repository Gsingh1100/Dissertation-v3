{
 "cells": [
  {
   "cell_type": "markdown",
   "id": "7f3be13a",
   "metadata": {},
   "source": [
    "# Baseline Model - Cleaning the Datasets"
   ]
  },
  {
   "cell_type": "markdown",
   "id": "e52055dc",
   "metadata": {},
   "source": [
    "## Load, Explore and Preprocess Historical Carbon Credit Prices"
   ]
  },
  {
   "cell_type": "code",
   "execution_count": 2,
   "id": "41f50103",
   "metadata": {},
   "outputs": [],
   "source": [
    "import pandas as pd"
   ]
  },
  {
   "cell_type": "code",
   "execution_count": 3,
   "id": "8c6296fb",
   "metadata": {},
   "outputs": [],
   "source": [
    "historical_prices = pd.read_csv('historical_prices.csv')"
   ]
  },
  {
   "cell_type": "markdown",
   "id": "a2d51a22",
   "metadata": {},
   "source": [
    "##### Load and inspect the data: \n",
    "Here we load the histrocial carbon credit price data and inspect its structure using 'head()', 'info()' and 'describe()' functions. This helps us understand the data types and indentofy any immediate issues such as missing vaues or incorrect data types."
   ]
  },
  {
   "cell_type": "code",
   "execution_count": 4,
   "id": "771fd624",
   "metadata": {},
   "outputs": [
    {
     "name": "stdout",
     "output_type": "stream",
     "text": [
      "         Date  Price   Open   High    Low    Vol. Change %\n",
      "0  28/06/2024  67.36  66.71  68.40  65.79  22.06K    1.31%\n",
      "1  27/06/2024  66.49  67.03  67.78  66.42  19.50K   -1.10%\n",
      "2  26/06/2024  67.23  68.35  69.09  66.80  22.83K   -0.84%\n",
      "3  25/06/2024  67.80  67.45  68.07  66.85  20.56K    0.36%\n",
      "4  24/06/2024  67.56  68.02  68.27  67.01  25.78K   -0.72%\n"
     ]
    }
   ],
   "source": [
    "#returns the first few rows of the dataset\n",
    "print(historical_prices.head())"
   ]
  },
  {
   "cell_type": "code",
   "execution_count": 5,
   "id": "26c5ddc5",
   "metadata": {},
   "outputs": [
    {
     "name": "stdout",
     "output_type": "stream",
     "text": [
      "<class 'pandas.core.frame.DataFrame'>\n",
      "RangeIndex: 1393 entries, 0 to 1392\n",
      "Data columns (total 7 columns):\n",
      " #   Column    Non-Null Count  Dtype  \n",
      "---  ------    --------------  -----  \n",
      " 0   Date      1393 non-null   object \n",
      " 1   Price     1393 non-null   float64\n",
      " 2   Open      1393 non-null   float64\n",
      " 3   High      1393 non-null   float64\n",
      " 4   Low       1393 non-null   float64\n",
      " 5   Vol.      1387 non-null   object \n",
      " 6   Change %  1393 non-null   object \n",
      "dtypes: float64(4), object(3)\n",
      "memory usage: 76.3+ KB\n",
      "None\n"
     ]
    }
   ],
   "source": [
    "#check the structure and summary of the data\n",
    "print(historical_prices.info())"
   ]
  },
  {
   "cell_type": "code",
   "execution_count": 6,
   "id": "673e807a",
   "metadata": {},
   "outputs": [
    {
     "name": "stdout",
     "output_type": "stream",
     "text": [
      "             Price         Open         High          Low\n",
      "count  1393.000000  1393.000000  1393.000000  1393.000000\n",
      "mean     55.691414    55.678076    56.623467    54.727452\n",
      "std      25.609011    25.645751    26.186333    25.068633\n",
      "min      16.120000    15.600000    16.380000    15.150000\n",
      "25%      27.300000    27.300000    27.580000    27.030000\n",
      "50%      58.940000    59.000000    60.260000    57.970000\n",
      "75%      80.650000    80.700000    82.170000    79.320000\n",
      "max      98.010000    98.500000    99.220000    96.720000\n"
     ]
    }
   ],
   "source": [
    "#check the structure and summary of the data\n",
    "print(historical_prices.describe())"
   ]
  },
  {
   "cell_type": "markdown",
   "id": "60933396",
   "metadata": {},
   "source": [
    "#### Chek for missing values:\n",
    "We check for missing values in the dataset using 'isnull().sum()'. Identifying missing values early on helps us decide on the best approach to handle them, whether it be imputation or removal."
   ]
  },
  {
   "cell_type": "code",
   "execution_count": 7,
   "id": "25c2397b",
   "metadata": {},
   "outputs": [
    {
     "name": "stdout",
     "output_type": "stream",
     "text": [
      "Date        0\n",
      "Price       0\n",
      "Open        0\n",
      "High        0\n",
      "Low         0\n",
      "Vol.        6\n",
      "Change %    0\n",
      "dtype: int64\n"
     ]
    }
   ],
   "source": [
    "#checks for missiing values\n",
    "print(historical_prices.isnull().sum())"
   ]
  },
  {
   "cell_type": "markdown",
   "id": "e32cf7d3",
   "metadata": {},
   "source": [
    "Since we have missing values in the 'Vol.' column, we must be able to handle this. Interpolation is a good method as it considers trends before and after the missing value to provode a more accurate estimate. This may not work as the missing values may be at the start or end of the series where interpolation does not have enough data points to estimate the value, therefore i will use forward filling and possibly backward filling forward filling does not handle te missing values."
   ]
  },
  {
   "cell_type": "markdown",
   "id": "12c04f9c",
   "metadata": {},
   "source": [
    "#### Handling missing values:"
   ]
  },
  {
   "cell_type": "code",
   "execution_count": 8,
   "id": "c1e5051f",
   "metadata": {},
   "outputs": [],
   "source": [
    "#handle missing values in 'Vol.' column by forward filling\n",
    "historical_prices['Vol.'] = historical_prices['Vol.'].fillna(method='ffill')\n"
   ]
  },
  {
   "cell_type": "code",
   "execution_count": 9,
   "id": "98b5e372",
   "metadata": {},
   "outputs": [],
   "source": [
    "#convert the 'Date' column to datetime format\n",
    "historical_prices['Date'] = pd.to_datetime(historical_prices['Date'], dayfirst=True)"
   ]
  },
  {
   "cell_type": "markdown",
   "id": "e24a83c2",
   "metadata": {},
   "source": [
    "#### Feature engineering:\n",
    "1) Date conversion: changing the column from a string format to a 'datetime' object, allows us to easily extract components of the date, like the day of the week, month and quarter.\n",
    "\n",
    "2) Day of the Week: this feature represents the day of the week for each date, where Monday is 0 and Sunday is 6. It helps identify any weekly patterns in the price changes.\n",
    "\n",
    "3) Month: this feature indicates the month (1 for January, 2 for February, etc.) and can be used to detect seasonal trends in the price data.\n",
    "\n",
    "4) Qurter: this feature divides the year into four quarters. It can help identify broader seasonal effects on prices over a three-month period.\n",
    "\n",
    "5) this feature calculates the percentage change in price from the previous day. It provides insight into daily price volatility and is useful for detecting trends and anomalies in price movements."
   ]
  },
  {
   "cell_type": "code",
   "execution_count": 10,
   "id": "f6e5dd16",
   "metadata": {},
   "outputs": [],
   "source": [
    "#extract additional features\n",
    "historical_prices['DayOfWeek'] = historical_prices['Date'].dt.dayofweek\n",
    "historical_prices['Month'] = historical_prices['Date'].dt.month\n",
    "historical_prices['Quarter'] = historical_prices['Date'].dt.quarter\n",
    "\n",
    "#calculate daily change percentage\n",
    "historical_prices['DailyChange'] = historical_prices['Price'].pct_change() * 100\n",
    "\n",
    "#drop rows with NaN values in 'DailyChange' column\n",
    "historical_prices.dropna(subset=['DailyChange'], inplace=True)"
   ]
  },
  {
   "cell_type": "code",
   "execution_count": 11,
   "id": "66f7f4bf",
   "metadata": {},
   "outputs": [],
   "source": [
    "#feature engineering: rolling average\n",
    "historical_prices['Price_MA_7'] = historical_prices['Price'].rolling(window=7).mean()\n",
    "\n",
    "#drop any remaining NaN values from rolling mean\n",
    "historical_prices.dropna(inplace=True)"
   ]
  },
  {
   "cell_type": "code",
   "execution_count": 12,
   "id": "c909cbc2",
   "metadata": {},
   "outputs": [
    {
     "name": "stdout",
     "output_type": "stream",
     "text": [
      "         Date    Low   High   Open  DailyChange  Price_MA_7\n",
      "7  2024-06-19  68.50  70.81  68.74     2.240208   68.151429\n",
      "8  2024-06-18  67.72  69.25  68.26    -3.336161   68.421429\n",
      "9  2024-06-17  67.63  69.21  68.70    -0.321732   68.554286\n",
      "10 2024-06-14  68.18  71.09  70.75     0.542840   68.658571\n",
      "11 2024-06-13  70.30  71.99  70.30     3.414563   69.131429\n"
     ]
    }
   ],
   "source": [
    "#select important features including Date\n",
    "selected_features = ['Date', 'Low', 'High', 'Open', 'DailyChange', 'Price_MA_7']\n",
    "final_historical_prices = historical_prices[selected_features]\n",
    "\n",
    "#save the cleaned data to a new CSV file\n",
    "final_historical_prices.to_csv('cleaned_historical_prices_with_date.csv', index=False)\n",
    "\n",
    "print(final_historical_prices.head())"
   ]
  },
  {
   "cell_type": "markdown",
   "id": "5377e392",
   "metadata": {},
   "source": [
    "## Load, Explore and Preprocess Economic Indicators"
   ]
  },
  {
   "cell_type": "markdown",
   "id": "c55128b4",
   "metadata": {},
   "source": [
    "### 1) GDP Growth Rates"
   ]
  },
  {
   "cell_type": "code",
   "execution_count": 18,
   "id": "747d6c9f",
   "metadata": {},
   "outputs": [],
   "source": [
    "#load the GDP Growth Rates dataset\n",
    "gdp_growth_rates = pd.read_csv('gdp_growth_rates.csv')"
   ]
  },
  {
   "cell_type": "code",
   "execution_count": 19,
   "id": "b38f1a1d",
   "metadata": {},
   "outputs": [
    {
     "name": "stdout",
     "output_type": "stream",
     "text": [
      "  Country Name         Indicator Name      2019       2020      2021  \\\n",
      "0      Albania  GDP growth (annual %)  2.087712  -3.302082  8.908528   \n",
      "1      Andorra  GDP growth (annual %)  2.015548 -11.183940  8.287200   \n",
      "2      Austria  GDP growth (annual %)  1.450529  -6.632991  4.237867   \n",
      "3      Belgium  GDP growth (annual %)  2.240835  -5.304473  6.927984   \n",
      "4     Bulgaria  GDP growth (annual %)  4.035189  -3.966156  7.661748   \n",
      "\n",
      "       2022      2023  \n",
      "0  4.856402  3.439149  \n",
      "1  9.563798  1.444184  \n",
      "2  4.806430 -0.828815  \n",
      "3  3.014722  1.365055  \n",
      "4  3.926432  1.846390  \n"
     ]
    }
   ],
   "source": [
    "#display the first few rows to understand the structure\n",
    "print(gdp_growth_rates.head())"
   ]
  },
  {
   "cell_type": "markdown",
   "id": "c5eb4d78",
   "metadata": {},
   "source": [
    "We will handle any missing within the dataset, if there are any, we can tackle this issue by using forward and backward fill. "
   ]
  },
  {
   "cell_type": "code",
   "execution_count": 20,
   "id": "6f85ef38",
   "metadata": {},
   "outputs": [
    {
     "name": "stdout",
     "output_type": "stream",
     "text": [
      "\n",
      "Missing values in each column:\n",
      "Country Name      0\n",
      "Indicator Name    0\n",
      "2019              1\n",
      "2020              1\n",
      "2021              1\n",
      "2022              2\n",
      "2023              3\n",
      "dtype: int64\n"
     ]
    }
   ],
   "source": [
    "# Check for missing values\n",
    "print(\"\\nMissing values in each column:\")\n",
    "print(gdp_growth_rates.isnull().sum())"
   ]
  },
  {
   "cell_type": "code",
   "execution_count": 21,
   "id": "d6f9dcc8",
   "metadata": {},
   "outputs": [
    {
     "name": "stdout",
     "output_type": "stream",
     "text": [
      "\n",
      "Missing values after handling:\n",
      "Country Name      0\n",
      "Indicator Name    0\n",
      "2019              0\n",
      "2020              0\n",
      "2021              0\n",
      "2022              0\n",
      "2023              0\n",
      "dtype: int64\n"
     ]
    }
   ],
   "source": [
    "#handles missing values - using forward fill in this case\n",
    "gdp_growth_rates.fillna(method='ffill', inplace=True)\n",
    "\n",
    "#ensures that there are no remaining missing values\n",
    "print(\"\\nMissing values after handling:\")\n",
    "print(gdp_growth_rates.isnull().sum())"
   ]
  },
  {
   "cell_type": "code",
   "execution_count": 22,
   "id": "00813996",
   "metadata": {},
   "outputs": [
    {
     "name": "stdout",
     "output_type": "stream",
     "text": [
      "\n",
      "Missing values after handling with backward fill:\n",
      "Country Name      0\n",
      "Indicator Name    0\n",
      "2019              0\n",
      "2020              0\n",
      "2021              0\n",
      "2022              0\n",
      "2023              0\n",
      "dtype: int64\n"
     ]
    }
   ],
   "source": [
    "#handles any remaining missing values using backward fill\n",
    "gdp_growth_rates.fillna(method='bfill', inplace=True)\n",
    "\n",
    "#ensures that there are no remaining missing values\n",
    "print(\"\\nMissing values after handling with backward fill:\")\n",
    "print(gdp_growth_rates.isnull().sum())"
   ]
  },
  {
   "cell_type": "markdown",
   "id": "e97ee628",
   "metadata": {},
   "source": [
    "Even after applying forward fill, with the addition of backward fill, we ensure that we have removed all missing values from the dataset."
   ]
  },
  {
   "cell_type": "code",
   "execution_count": 23,
   "id": "35f8c245",
   "metadata": {},
   "outputs": [
    {
     "name": "stdout",
     "output_type": "stream",
     "text": [
      "Country Name       object\n",
      "Indicator Name     object\n",
      "2019              float64\n",
      "2020              float64\n",
      "2021              float64\n",
      "2022              float64\n",
      "2023              float64\n",
      "dtype: object\n"
     ]
    }
   ],
   "source": [
    "#check data types\n",
    "print(gdp_growth_rates.dtypes)"
   ]
  },
  {
   "cell_type": "markdown",
   "id": "7863d34f",
   "metadata": {},
   "source": [
    "#### Data Cleaning and Transformation on GDP Growth Rates"
   ]
  },
  {
   "cell_type": "markdown",
   "id": "2776ea88",
   "metadata": {},
   "source": [
    "Here, we are handling outliers identified using box plots, as shown below."
   ]
  },
  {
   "cell_type": "code",
   "execution_count": 24,
   "id": "46d67d39",
   "metadata": {},
   "outputs": [
    {
     "data": {
      "image/png": "[encoded data removed]",
      "text/plain": [
       "<Figure size 1200x600 with 1 Axes>"
      ]
     },
     "metadata": {},
     "output_type": "display_data"
    }
   ],
   "source": [
    "import matplotlib.pyplot as plt\n",
    "import seaborn as sns\n",
    "\n",
    "#visualize outliers using a boxplot\n",
    "plt.figure(figsize=(12, 6))\n",
    "sns.boxplot(data=gdp_growth_rates.drop(columns=['Country Name', 'Indicator Name']))\n",
    "plt.title('GDP Growth Rates Boxplot')\n",
    "plt.show()"
   ]
  },
  {
   "cell_type": "code",
   "execution_count": 25,
   "id": "cdf6480d",
   "metadata": {},
   "outputs": [
    {
     "data": {
      "image/png": "[encoded data removed]",
      "text/plain": [
       "<Figure size 640x480 with 1 Axes>"
      ]
     },
     "metadata": {},
     "output_type": "display_data"
    }
   ],
   "source": [
    "#caps outliers to 5th and 95th percentiles\n",
    "for year in ['2019', '2020', '2021', '2022', '2023']:\n",
    "    lower_bound = gdp_growth_rates[year].quantile(0.05)\n",
    "    upper_bound = gdp_growth_rates[year].quantile(0.95)\n",
    "    gdp_growth_rates[year] = gdp_growth_rates[year].clip(lower=lower_bound, upper=upper_bound)\n",
    "\n",
    "#check again for any remaining outliers\n",
    "sns.boxplot(data=gdp_growth_rates.drop(columns=['Country Name', 'Indicator Name']))\n",
    "plt.title('GDP Growth Rates Boxplot (Post-Outlier Handling)')\n",
    "plt.show()"
   ]
  },
  {
   "cell_type": "markdown",
   "id": "d6920568",
   "metadata": {},
   "source": [
    "#### Feature engineering for GDP Growth Rates:"
   ]
  },
  {
   "cell_type": "code",
   "execution_count": 26,
   "id": "fe5d7b3f",
   "metadata": {},
   "outputs": [
    {
     "name": "stdout",
     "output_type": "stream",
     "text": [
      "             Country Name         Indicator Name      2019       2020  \\\n",
      "1                 Andorra  GDP growth (annual %)  2.015548 -11.182276   \n",
      "2                 Austria  GDP growth (annual %)  1.450529  -6.632991   \n",
      "3                 Belgium  GDP growth (annual %)  2.240835  -5.304473   \n",
      "4                Bulgaria  GDP growth (annual %)  4.035189  -3.966156   \n",
      "5  Bosnia and Herzegovina  GDP growth (annual %)  2.887343  -3.015095   \n",
      "\n",
      "       2021      2022      2023   Lag_2020  Lag_2021  Lag_2022  Lag_2023  \\\n",
      "1  8.287200  9.377851  1.444184  -3.302082  8.908528  4.856402  3.439149   \n",
      "2  4.237867  4.806430 -0.828815 -11.182276  8.287200  9.377851  1.444184   \n",
      "3  6.927984  3.014722  1.365055  -6.632991  4.237867  4.806430 -0.828815   \n",
      "4  7.661748  3.926432  1.846390  -5.304473  6.927984  3.014722  1.365055   \n",
      "5  7.389962  4.226811  1.676223  -3.966156  7.661748  3.926432  1.846390   \n",
      "\n",
      "   Rolling_Mean_2019  Rolling_Mean_2020  Rolling_Mean_2021  Rolling_Mean_2022  \\\n",
      "1           2.051630          -7.242179           8.597864           7.117126   \n",
      "2           1.733038          -8.907634           6.262533           7.092140   \n",
      "3           1.845682          -5.968732           5.582925           3.910576   \n",
      "4           3.138012          -4.635315           7.294866           3.470577   \n",
      "5           3.461266          -3.490626           7.525855           4.076622   \n",
      "\n",
      "   Rolling_Mean_2023  \n",
      "1           2.441667  \n",
      "2           0.307685  \n",
      "3           0.268120  \n",
      "4           1.605722  \n",
      "5           1.761307  \n"
     ]
    }
   ],
   "source": [
    "#create lag features for each year\n",
    "for year in ['2020', '2021', '2022', '2023']:\n",
    "    gdp_growth_rates[f'Lag_{year}'] = gdp_growth_rates[year].shift(1)\n",
    "\n",
    "#create rolling mean features for each year\n",
    "for year in ['2019', '2020', '2021', '2022', '2023']:\n",
    "    gdp_growth_rates[f'Rolling_Mean_{year}'] = gdp_growth_rates[year].rolling(window=2).mean()\n",
    "\n",
    "#drop any rows with NaN values resulting from lag/rolling mean operations\n",
    "gdp_growth_rates.dropna(inplace=True)\n",
    "\n",
    "#check the dataset after feature engineering\n",
    "print(gdp_growth_rates.head())"
   ]
  },
  {
   "cell_type": "markdown",
   "id": "0cdd753a",
   "metadata": {},
   "source": [
    "We have created, for each year, a lag feature which represents the GDP growth rate from the previous year.\n",
    "\n",
    "We have also calculated a rolling mean for each year with a window size of 2, which averages the current year and the previous year's GDP growth rates."
   ]
  },
  {
   "cell_type": "code",
   "execution_count": 27,
   "id": "c042a7f3",
   "metadata": {},
   "outputs": [
    {
     "name": "stdout",
     "output_type": "stream",
     "text": [
      "             Country Name         Indicator Name      2019      2020  \\\n",
      "1                 Andorra  GDP growth (annual %) -0.518081 -1.800499   \n",
      "2                 Austria  GDP growth (annual %) -0.933466 -0.441804   \n",
      "3                 Belgium  GDP growth (annual %) -0.352456 -0.045028   \n",
      "4                Bulgaria  GDP growth (annual %)  0.966701  0.354675   \n",
      "5  Bosnia and Herzegovina  GDP growth (annual %)  0.122838  0.638720   \n",
      "\n",
      "       2021      2022      2023  Lag_2020  Lag_2021  Lag_2022  Lag_2023  \\\n",
      "1  0.358831  1.758055  0.078423  0.548952  0.534069  0.400514  1.277352   \n",
      "2 -1.011839  0.425182 -1.202091 -1.800912  0.320169  1.806643  0.106020   \n",
      "3 -0.101254 -0.097220  0.033845 -0.444321 -1.073863  0.384973 -1.228558   \n",
      "4  0.147120  0.168604  0.305009 -0.048158 -0.147757 -0.172232  0.059560   \n",
      "5  0.055123  0.256184  0.209144  0.350926  0.104850  0.111302  0.342173   \n",
      "\n",
      "   Rolling_Mean_2019  Rolling_Mean_2020  Rolling_Mean_2021  Rolling_Mean_2022  \\\n",
      "1          -0.639109          -0.810500           0.581893           1.413179   \n",
      "2          -0.949786          -1.455177          -0.458850           1.403528   \n",
      "3          -0.839940          -0.317563          -0.761718           0.174669   \n",
      "4           0.420285           0.198587           0.001211           0.004722   \n",
      "5           0.735509           0.641682           0.104151           0.238803   \n",
      "\n",
      "   Rolling_Mean_2023  \n",
      "1           0.849201  \n",
      "2          -0.716573  \n",
      "3          -0.745603  \n",
      "4           0.235841  \n",
      "5           0.349998  \n"
     ]
    }
   ],
   "source": [
    "from sklearn.preprocessing import StandardScaler\n",
    "\n",
    "#select only the numeric columns for standardization\n",
    "numeric_columns = gdp_growth_rates.columns[2:]  # Excluding 'Country Name' and 'Indicator Name'\n",
    "\n",
    "#initialize the standard scaler\n",
    "scaler = StandardScaler()\n",
    "\n",
    "#fit and transform the numeric columns\n",
    "gdp_growth_rates[numeric_columns] = scaler.fit_transform(gdp_growth_rates[numeric_columns])\n",
    "\n",
    "#check the dataset after standardization\n",
    "print(gdp_growth_rates.head())"
   ]
  },
  {
   "cell_type": "code",
   "execution_count": 28,
   "id": "589b8911",
   "metadata": {},
   "outputs": [],
   "source": [
    "#save the cleaned dataset\n",
    "gdp_growth_rates.to_csv('cleaned_gdp_growth_rates.csv', index=False)"
   ]
  },
  {
   "cell_type": "markdown",
   "id": "641be870",
   "metadata": {},
   "source": [
    "### 2) Inflation Rates"
   ]
  },
  {
   "cell_type": "markdown",
   "id": "87004582",
   "metadata": {},
   "source": [
    "#### Load and inspect the dataset"
   ]
  },
  {
   "cell_type": "code",
   "execution_count": 29,
   "id": "e55dba75",
   "metadata": {},
   "outputs": [
    {
     "name": "stdout",
     "output_type": "stream",
     "text": [
      "             Country Name                         Indicator Name      2019  \\\n",
      "0                 Andorra  Inflation, consumer prices (annual %)       NaN   \n",
      "1                 Austria  Inflation, consumer prices (annual %)  1.530896   \n",
      "2                 Belgium  Inflation, consumer prices (annual %)  1.436820   \n",
      "3                Bulgaria  Inflation, consumer prices (annual %)  3.103729   \n",
      "4  Bosnia and Herzegovina  Inflation, consumer prices (annual %)       NaN   \n",
      "\n",
      "       2020      2021       2022      2023  \n",
      "0       NaN       NaN        NaN       NaN  \n",
      "1  1.381911  2.766667   8.546870  7.814134  \n",
      "2  0.740792  2.440249   9.597512  4.049011  \n",
      "3  1.672441  3.297744  15.325259  9.442841  \n",
      "4       NaN       NaN        NaN       NaN  \n",
      "<class 'pandas.core.frame.DataFrame'>\n",
      "RangeIndex: 42 entries, 0 to 41\n",
      "Data columns (total 7 columns):\n",
      " #   Column          Non-Null Count  Dtype  \n",
      "---  ------          --------------  -----  \n",
      " 0   Country Name    42 non-null     object \n",
      " 1   Indicator Name  42 non-null     object \n",
      " 2   2019            37 non-null     float64\n",
      " 3   2020            37 non-null     float64\n",
      " 4   2021            37 non-null     float64\n",
      " 5   2022            36 non-null     float64\n",
      " 6   2023            36 non-null     float64\n",
      "dtypes: float64(5), object(2)\n",
      "memory usage: 2.4+ KB\n",
      "None\n",
      "            2019       2020       2021       2022       2023\n",
      "count  37.000000  37.000000  37.000000  36.000000  36.000000\n",
      "mean    2.130687   1.193521   3.421429  11.335182   7.604299\n",
      "std     1.620627   1.506961   1.970472   5.278021   3.391116\n",
      "min     0.253008  -1.247984   0.581814   2.835028   2.135401\n",
      "25%     0.937843   0.144878   2.194574   7.831883   4.970039\n",
      "50%     1.743321   0.819957   3.066667   9.621386   7.630506\n",
      "75%     2.811409   1.936941   4.444240  14.474124   9.382115\n",
      "max     7.886717   5.548144   9.460284  28.737298  17.124966\n"
     ]
    }
   ],
   "source": [
    "#import necessary libraries\n",
    "import pandas as pd\n",
    "\n",
    "#load the inflation rates dataset\n",
    "inflation_rates = pd.read_csv('inflation_rates.csv')\n",
    "\n",
    "#display the first few rows of the dataset to understand its structure\n",
    "print(inflation_rates.head())\n",
    "\n",
    "#check the structure and summary of the data\n",
    "print(inflation_rates.info())\n",
    "\n",
    "print(inflation_rates.describe())"
   ]
  },
  {
   "cell_type": "markdown",
   "id": "8550d4d3",
   "metadata": {},
   "source": [
    "#### Handling missing values"
   ]
  },
  {
   "cell_type": "code",
   "execution_count": 30,
   "id": "6a0911c7",
   "metadata": {},
   "outputs": [
    {
     "name": "stdout",
     "output_type": "stream",
     "text": [
      "\n",
      "Missing values in each column:\n",
      "Country Name      0\n",
      "Indicator Name    0\n",
      "2019              5\n",
      "2020              5\n",
      "2021              5\n",
      "2022              6\n",
      "2023              6\n",
      "dtype: int64\n",
      "\n",
      "Missing values after handling:\n",
      "Country Name      0\n",
      "Indicator Name    0\n",
      "2019              0\n",
      "2020              0\n",
      "2021              0\n",
      "2022              0\n",
      "2023              0\n",
      "dtype: int64\n"
     ]
    }
   ],
   "source": [
    "#check for missing values\n",
    "print(\"\\nMissing values in each column:\")\n",
    "print(inflation_rates.isnull().sum())\n",
    "\n",
    "#handle missing values by filling them using forward and backward fill\n",
    "inflation_rates.fillna(method='ffill', inplace=True)  # Forward fill\n",
    "inflation_rates.fillna(method='bfill', inplace=True)  # Backward fill\n",
    "\n",
    "#ensure that there are no remaining missing values\n",
    "print(\"\\nMissing values after handling:\")\n",
    "print(inflation_rates.isnull().sum())"
   ]
  },
  {
   "cell_type": "code",
   "execution_count": 31,
   "id": "2767b8a6",
   "metadata": {},
   "outputs": [
    {
     "name": "stdout",
     "output_type": "stream",
     "text": [
      "             Country Name                         Indicator Name      2019  \\\n",
      "0                 Andorra  Inflation, consumer prices (annual %)  1.530896   \n",
      "1                 Austria  Inflation, consumer prices (annual %)  1.530896   \n",
      "2                 Belgium  Inflation, consumer prices (annual %)  1.436820   \n",
      "3                Bulgaria  Inflation, consumer prices (annual %)  3.103729   \n",
      "4  Bosnia and Herzegovina  Inflation, consumer prices (annual %)  3.103729   \n",
      "\n",
      "       2020      2021       2022      2023  \n",
      "0  1.381911  2.766667   8.546870  7.814134  \n",
      "1  1.381911  2.766667   8.546870  7.814134  \n",
      "2  0.740792  2.440249   9.597512  4.049011  \n",
      "3  1.672441  3.297744  15.325259  9.442841  \n",
      "4  1.672441  3.297744  15.325259  9.442841  \n"
     ]
    }
   ],
   "source": [
    "print(inflation_rates.head())"
   ]
  },
  {
   "cell_type": "markdown",
   "id": "e1923598",
   "metadata": {},
   "source": [
    "#### Visualise the data for outliers"
   ]
  },
  {
   "cell_type": "code",
   "execution_count": 32,
   "id": "b3cced0a",
   "metadata": {},
   "outputs": [
    {
     "data": {
      "image/png": "[encoded data removed]",
      "text/plain": [
       "<Figure size 1200x600 with 1 Axes>"
      ]
     },
     "metadata": {},
     "output_type": "display_data"
    }
   ],
   "source": [
    "import matplotlib.pyplot as plt\n",
    "import seaborn as sns\n",
    "\n",
    "#visualize outliers using a boxplot\n",
    "plt.figure(figsize=(12, 6))\n",
    "sns.boxplot(data=inflation_rates.drop(columns=['Country Name', 'Indicator Name']))\n",
    "plt.title('Inflation Rates Boxplot')\n",
    "plt.show()"
   ]
  },
  {
   "cell_type": "markdown",
   "id": "3e4cd0d7",
   "metadata": {},
   "source": [
    "#### Handling outliers"
   ]
  },
  {
   "cell_type": "code",
   "execution_count": 33,
   "id": "74153d4d",
   "metadata": {},
   "outputs": [
    {
     "data": {
      "image/png": "[encoded data removed]",
      "text/plain": [
       "<Figure size 1200x600 with 1 Axes>"
      ]
     },
     "metadata": {},
     "output_type": "display_data"
    }
   ],
   "source": [
    "#cap outliers to the 5th and 95th percentiles\n",
    "for year in ['2019', '2020', '2021', '2022', '2023']:\n",
    "    lower_bound = inflation_rates[year].quantile(0.05)\n",
    "    upper_bound = inflation_rates[year].quantile(0.95)\n",
    "    inflation_rates[year] = inflation_rates[year].clip(lower=lower_bound, upper=upper_bound)\n",
    "\n",
    "#check again for any remaining outliers\n",
    "plt.figure(figsize=(12, 6))\n",
    "sns.boxplot(data=inflation_rates.drop(columns=['Country Name', 'Indicator Name']))\n",
    "plt.title('Inflation Rates Boxplot (Post-Outlier Handling)')\n",
    "plt.show()"
   ]
  },
  {
   "cell_type": "markdown",
   "id": "498aeace",
   "metadata": {},
   "source": [
    "#### Performing feature engineering"
   ]
  },
  {
   "cell_type": "code",
   "execution_count": 34,
   "id": "e1c401f9",
   "metadata": {},
   "outputs": [
    {
     "name": "stdout",
     "output_type": "stream",
     "text": [
      "             Country Name                         Indicator Name      2019  \\\n",
      "1                 Austria  Inflation, consumer prices (annual %)  1.530896   \n",
      "2                 Belgium  Inflation, consumer prices (annual %)  1.436820   \n",
      "3                Bulgaria  Inflation, consumer prices (annual %)  3.103729   \n",
      "4  Bosnia and Herzegovina  Inflation, consumer prices (annual %)  3.103729   \n",
      "5                 Belarus  Inflation, consumer prices (annual %)  4.819413   \n",
      "\n",
      "       2020      2021       2022      2023  Lag_2020  Lag_2021   Lag_2022  \\\n",
      "1  1.381911  2.766667   8.546870  7.814134  1.381911  2.766667   8.546870   \n",
      "2  0.740792  2.440249   9.597512  4.049011  1.381911  2.766667   8.546870   \n",
      "3  1.672441  3.297744  15.325259  9.442841  0.740792  2.440249   9.597512   \n",
      "4  1.672441  3.297744  15.325259  9.442841  1.672441  3.297744  15.325259   \n",
      "5  3.381659  6.694459  15.209675  5.000599  1.672441  3.297744  15.325259   \n",
      "\n",
      "   Lag_2023  Rolling_Mean_2019  Rolling_Mean_2020  Rolling_Mean_2021  \\\n",
      "1  7.814134           1.530896           1.381911           2.766667   \n",
      "2  7.814134           1.483858           1.061351           2.603458   \n",
      "3  4.049011           2.270275           1.206616           2.868996   \n",
      "4  9.442841           3.103729           1.672441           3.297744   \n",
      "5  9.442841           3.961571           2.527050           4.996102   \n",
      "\n",
      "   Rolling_Mean_2022  Rolling_Mean_2023  \n",
      "1           8.546870           7.814134  \n",
      "2           9.072191           5.931572  \n",
      "3          12.461385           6.745926  \n",
      "4          15.325259           9.442841  \n",
      "5          15.267467           7.221720  \n"
     ]
    }
   ],
   "source": [
    "#create lag features for each year\n",
    "for year in ['2020', '2021', '2022', '2023']:\n",
    "    inflation_rates[f'Lag_{year}'] = inflation_rates[year].shift(1)\n",
    "\n",
    "#create rolling mean features for each year\n",
    "for year in ['2019', '2020', '2021', '2022', '2023']:\n",
    "    inflation_rates[f'Rolling_Mean_{year}'] = inflation_rates[year].rolling(window=2).mean()\n",
    "\n",
    "#drop any rows with NaN values resulting from lag/rolling mean operations\n",
    "inflation_rates.dropna(inplace=True)\n",
    "\n",
    "#check the dataset after feature engineering\n",
    "print(inflation_rates.head())"
   ]
  },
  {
   "cell_type": "markdown",
   "id": "14ccb23f",
   "metadata": {},
   "source": [
    "#### Standardise the data"
   ]
  },
  {
   "cell_type": "code",
   "execution_count": 35,
   "id": "278bc6a2",
   "metadata": {},
   "outputs": [
    {
     "name": "stdout",
     "output_type": "stream",
     "text": [
      "             Country Name                         Indicator Name      2019  \\\n",
      "1                 Austria  Inflation, consumer prices (annual %) -0.428176   \n",
      "2                 Belgium  Inflation, consumer prices (annual %) -0.498956   \n",
      "3                Bulgaria  Inflation, consumer prices (annual %)  0.755179   \n",
      "4  Bosnia and Herzegovina  Inflation, consumer prices (annual %)  0.755179   \n",
      "5                 Belarus  Inflation, consumer prices (annual %)  2.046009   \n",
      "\n",
      "       2020      2021      2022      2023  Lag_2020  Lag_2021  Lag_2022  \\\n",
      "1  0.165506 -0.371651 -0.681054  0.044247  0.194350 -0.329274 -0.644749   \n",
      "2 -0.328258 -0.582164 -0.436668 -1.258382  0.194350 -0.329274 -0.644749   \n",
      "3  0.389261 -0.029150  0.895640  0.607735 -0.308401 -0.552970 -0.389719   \n",
      "4  0.389261 -0.029150  0.895640  0.607735  0.422178  0.034677  1.000623   \n",
      "5  1.705635  2.161450  0.868754 -0.929158  0.422178  0.034677  1.000623   \n",
      "\n",
      "   Lag_2023  Rolling_Mean_2019  Rolling_Mean_2020  Rolling_Mean_2021  \\\n",
      "1  0.090159          -0.561264           0.261914          -0.485505   \n",
      "2  0.090159          -0.611171          -0.100965          -0.635471   \n",
      "3 -1.267069           0.223213           0.063478          -0.391478   \n",
      "4  0.677265           1.107504           0.590800           0.002481   \n",
      "5  0.677265           2.017669           1.558234           1.563032   \n",
      "\n",
      "   Rolling_Mean_2022  Rolling_Mean_2023  \n",
      "1          -0.962112           0.091490  \n",
      "2          -0.781091          -0.819793  \n",
      "3           0.386794          -0.425593  \n",
      "4           1.373658           0.879891  \n",
      "5           1.353743          -0.195277  \n"
     ]
    }
   ],
   "source": [
    "from sklearn.preprocessing import StandardScaler\n",
    "\n",
    "#select only the numeric columns for standardization\n",
    "numeric_columns = inflation_rates.columns[2:]  # Excluding 'Country Name' and 'Indicator Name'\n",
    "\n",
    "#initialize the standard scaler\n",
    "scaler = StandardScaler()\n",
    "\n",
    "#fit and transform the numeric columns\n",
    "inflation_rates[numeric_columns] = scaler.fit_transform(inflation_rates[numeric_columns])\n",
    "\n",
    "#check the dataset after standardization\n",
    "print(inflation_rates.head())"
   ]
  },
  {
   "cell_type": "code",
   "execution_count": 36,
   "id": "7f79fb42",
   "metadata": {},
   "outputs": [],
   "source": [
    "#save the cleaned dataset\n",
    "inflation_rates.to_csv('cleaned_inflation_rates.csv', index=False)"
   ]
  },
  {
   "cell_type": "markdown",
   "id": "73a20171",
   "metadata": {},
   "source": [
    "### 3) Unemployment Rates"
   ]
  },
  {
   "cell_type": "markdown",
   "id": "d1f293dd",
   "metadata": {},
   "source": [
    "#### Load and inspect the dataset"
   ]
  },
  {
   "cell_type": "code",
   "execution_count": 39,
   "id": "21ed305e",
   "metadata": {},
   "outputs": [
    {
     "name": "stdout",
     "output_type": "stream",
     "text": [
      "             Country Name                                     Indicator Name  \\\n",
      "0                 Austria  Unemployment, total (% of total labor force) (...   \n",
      "1                 Belgium  Unemployment, total (% of total labor force) (...   \n",
      "2                Bulgaria  Unemployment, total (% of total labor force) (...   \n",
      "3  Bosnia and Herzegovina  Unemployment, total (% of total labor force) (...   \n",
      "4                 Belarus  Unemployment, total (% of total labor force) (...   \n",
      "\n",
      "     2019    2020    2021    2022    2023  \n",
      "0   4.560   5.201   6.459   4.992   5.243  \n",
      "1   5.360   5.555   6.264   5.558   5.508  \n",
      "2   4.230   5.125   5.267   4.268   4.295  \n",
      "3  15.692  15.868  14.897  12.657  10.420  \n",
      "4   4.165   4.049   3.900   3.574   3.574  \n",
      "<class 'pandas.core.frame.DataFrame'>\n",
      "RangeIndex: 41 entries, 0 to 40\n",
      "Data columns (total 7 columns):\n",
      " #   Column          Non-Null Count  Dtype  \n",
      "---  ------          --------------  -----  \n",
      " 0   Country Name    41 non-null     object \n",
      " 1   Indicator Name  41 non-null     object \n",
      " 2   2019            38 non-null     float64\n",
      " 3   2020            38 non-null     float64\n",
      " 4   2021            38 non-null     float64\n",
      " 5   2022            37 non-null     float64\n",
      " 6   2023            37 non-null     float64\n",
      "dtypes: float64(5), object(2)\n",
      "memory usage: 2.4+ KB\n",
      "None\n",
      "            2019       2020       2021       2022       2023\n",
      "count  38.000000  38.000000  38.000000  37.000000  37.000000\n",
      "mean    6.531711   7.209895   7.056789   6.028243   5.960919\n",
      "std     4.174037   4.076807   3.816029   3.473922   3.108250\n",
      "min     1.502000   1.206000   0.794000   0.909000   1.623000\n",
      "25%     3.780750   4.558250   4.723000   3.730000   3.581000\n",
      "50%     4.984000   5.630000   6.186000   4.992000   5.243000\n",
      "75%     6.798500   8.242750   7.807500   6.960000   7.155000\n",
      "max    17.414000  17.878000  16.543000  15.288000  15.254000\n"
     ]
    }
   ],
   "source": [
    "#import necessary libraries\n",
    "import pandas as pd\n",
    "\n",
    "#load the unemployment rates dataset\n",
    "unemployment_rates = pd.read_csv('unemployment_rates.csv')\n",
    "\n",
    "#display the first few rows of the dataset to understand its structure\n",
    "print(unemployment_rates.head())\n",
    "\n",
    "#check the structure and summary of the data\n",
    "print(unemployment_rates.info())\n",
    "print(unemployment_rates.describe())"
   ]
  },
  {
   "cell_type": "markdown",
   "id": "6c3155ab",
   "metadata": {},
   "source": [
    "#### Check for missing values"
   ]
  },
  {
   "cell_type": "code",
   "execution_count": 40,
   "id": "6f9ade6d",
   "metadata": {},
   "outputs": [
    {
     "name": "stdout",
     "output_type": "stream",
     "text": [
      "\n",
      "Missing values in each column:\n",
      "Country Name      0\n",
      "Indicator Name    0\n",
      "2019              3\n",
      "2020              3\n",
      "2021              3\n",
      "2022              4\n",
      "2023              4\n",
      "dtype: int64\n"
     ]
    }
   ],
   "source": [
    "#check for missing values\n",
    "print(\"\\nMissing values in each column:\")\n",
    "print(unemployment_rates.isnull().sum())"
   ]
  },
  {
   "cell_type": "code",
   "execution_count": 41,
   "id": "2b5285a0",
   "metadata": {},
   "outputs": [
    {
     "name": "stdout",
     "output_type": "stream",
     "text": [
      "\n",
      "Missing values after handling:\n",
      "Country Name      0\n",
      "Indicator Name    0\n",
      "2019              0\n",
      "2020              0\n",
      "2021              0\n",
      "2022              0\n",
      "2023              0\n",
      "dtype: int64\n"
     ]
    }
   ],
   "source": [
    "#handle missing values - using forward fill\n",
    "unemployment_rates.fillna(method='ffill', inplace=True)\n",
    "\n",
    "#ensure that there are no remaining missing values\n",
    "print(\"\\nMissing values after handling:\")\n",
    "print(unemployment_rates.isnull().sum())"
   ]
  },
  {
   "cell_type": "markdown",
   "id": "5ca3c591",
   "metadata": {},
   "source": [
    "#### Check for outliers"
   ]
  },
  {
   "cell_type": "code",
   "execution_count": 42,
   "id": "ee919d21",
   "metadata": {},
   "outputs": [
    {
     "data": {
      "image/png": "[encoded data removed]",
      "text/plain": [
       "<Figure size 1200x600 with 1 Axes>"
      ]
     },
     "metadata": {},
     "output_type": "display_data"
    }
   ],
   "source": [
    "import matplotlib.pyplot as plt\n",
    "import seaborn as sns\n",
    "\n",
    "#visualize outliers using a boxplot\n",
    "plt.figure(figsize=(12, 6))\n",
    "sns.boxplot(data=unemployment_rates.drop(columns=['Country Name', 'Indicator Name']))\n",
    "plt.title('Unemployment Rates Boxplot')\n",
    "plt.show()"
   ]
  },
  {
   "cell_type": "code",
   "execution_count": 44,
   "id": "aae11080",
   "metadata": {},
   "outputs": [
    {
     "data": {
      "image/png": "[encoded data removed]",
      "text/plain": [
       "<Figure size 1200x600 with 1 Axes>"
      ]
     },
     "metadata": {},
     "output_type": "display_data"
    }
   ],
   "source": [
    "#calculate the IQR for each year and apply outlier removal\n",
    "for year in ['2019', '2020', '2021', '2022', '2023']:\n",
    "    Q1 = unemployment_rates[year].quantile(0.25)\n",
    "    Q3 = unemployment_rates[year].quantile(0.75)\n",
    "    IQR = Q3 - Q1\n",
    "    \n",
    "    #define bounds for identifying outliers\n",
    "    lower_bound = Q1 - 1.5 * IQR\n",
    "    upper_bound = Q3 + 1.5 * IQR\n",
    "    \n",
    "    #cap values beyond the bounds\n",
    "    unemployment_rates[year] = unemployment_rates[year].clip(lower=lower_bound, upper=upper_bound)\n",
    "\n",
    "#check again for any remaining outliers\n",
    "plt.figure(figsize=(12, 6))\n",
    "sns.boxplot(data=unemployment_rates.drop(columns=['Country Name', 'Indicator Name']))\n",
    "plt.title('Unemployment Rates Boxplot (Post-IQR Handling)')\n",
    "plt.show()"
   ]
  },
  {
   "cell_type": "markdown",
   "id": "f3f6479c",
   "metadata": {},
   "source": [
    "#### Feature Engineering"
   ]
  },
  {
   "cell_type": "code",
   "execution_count": 45,
   "id": "71e6581a",
   "metadata": {},
   "outputs": [
    {
     "name": "stdout",
     "output_type": "stream",
     "text": [
      "             Country Name                                     Indicator Name  \\\n",
      "1                 Belgium  Unemployment, total (% of total labor force) (...   \n",
      "2                Bulgaria  Unemployment, total (% of total labor force) (...   \n",
      "3  Bosnia and Herzegovina  Unemployment, total (% of total labor force) (...   \n",
      "4                 Belarus  Unemployment, total (% of total labor force) (...   \n",
      "5             Switzerland  Unemployment, total (% of total labor force) (...   \n",
      "\n",
      "      2019    2020     2021     2022    2023  Lag_2020  Lag_2021  Lag_2022  \\\n",
      "1   5.3600   5.555   6.2640   5.5580   5.508     5.201    6.4590    4.9920   \n",
      "2   4.2300   5.125   5.2670   4.2680   4.295     5.555    6.2640    5.5580   \n",
      "3  11.2145  13.502  12.6125  12.5865  10.420     5.125    5.2670    4.2680   \n",
      "4   4.1650   4.049   3.9000   3.5740   3.574    13.502   12.6125   12.5865   \n",
      "5   4.3940   4.817   5.0970   4.3000   4.050     4.049    3.9000    3.5740   \n",
      "\n",
      "   Lag_2023  Rolling_Mean_2019  Rolling_Mean_2020  Rolling_Mean_2021  \\\n",
      "1     5.243            4.96000             5.3780            6.36150   \n",
      "2     5.508            4.79500             5.3400            5.76550   \n",
      "3     4.295            7.72225             9.3135            8.93975   \n",
      "4    10.420            7.68975             8.7755            8.25625   \n",
      "5     3.574            4.27950             4.4330            4.49850   \n",
      "\n",
      "   Rolling_Mean_2022  \n",
      "1            5.27500  \n",
      "2            4.91300  \n",
      "3            8.42725  \n",
      "4            8.08025  \n",
      "5            3.93700  \n"
     ]
    }
   ],
   "source": [
    "#create lag features for each year\n",
    "for year in ['2020', '2021', '2022', '2023']:\n",
    "    unemployment_rates[f'Lag_{year}'] = unemployment_rates[year].shift(1)\n",
    "\n",
    "#create rolling mean features for each year\n",
    "for year in ['2019', '2020', '2021', '2022']:\n",
    "    unemployment_rates[f'Rolling_Mean_{year}'] = unemployment_rates[year].rolling(window=2).mean()\n",
    "\n",
    "#drop any rows with NaN values resulting from Lag/rolling mean operations\n",
    "unemployment_rates.dropna(inplace=True)\n",
    "\n",
    "#check the dataset after feature engineering\n",
    "print(unemployment_rates.head())"
   ]
  },
  {
   "cell_type": "markdown",
   "id": "d0259d70",
   "metadata": {},
   "source": [
    "#### Standardisation"
   ]
  },
  {
   "cell_type": "code",
   "execution_count": 46,
   "id": "9d120546",
   "metadata": {},
   "outputs": [
    {
     "name": "stdout",
     "output_type": "stream",
     "text": [
      "             Country Name                                     Indicator Name  \\\n",
      "1                 Belgium  Unemployment, total (% of total labor force) (...   \n",
      "2                Bulgaria  Unemployment, total (% of total labor force) (...   \n",
      "3  Bosnia and Herzegovina  Unemployment, total (% of total labor force) (...   \n",
      "4                 Belarus  Unemployment, total (% of total labor force) (...   \n",
      "5             Switzerland  Unemployment, total (% of total labor force) (...   \n",
      "\n",
      "       2019      2020      2021      2022      2023  Lag_2020  Lag_2021  \\\n",
      "1 -0.272513 -0.475930 -0.195695 -0.165638 -0.164066 -0.559959 -0.099374   \n",
      "2 -0.690774 -0.617676 -0.544467 -0.603447 -0.616160 -0.442730 -0.168572   \n",
      "3  1.894488  2.143739  2.025150  2.219742  1.666672 -0.585127 -0.522367   \n",
      "4 -0.714834 -0.972371 -1.022674 -0.838981 -0.884881  2.188964  2.084258   \n",
      "5 -0.630071 -0.719206 -0.603937 -0.592586 -0.707473 -0.941451 -1.007461   \n",
      "\n",
      "   Lag_2022  Lag_2023  Rolling_Mean_2019  Rolling_Mean_2020  \\\n",
      "1 -0.337778 -0.241972          -0.641639          -0.816624   \n",
      "2 -0.145451 -0.142803          -0.738696          -0.836423   \n",
      "3 -0.583794 -0.596734           0.983176           1.233858   \n",
      "4  2.242834  1.695373           0.964058           0.953548   \n",
      "5 -0.819615 -0.866547          -1.041924          -1.308990   \n",
      "\n",
      "   Rolling_Mean_2021  Rolling_Mean_2022  \n",
      "1          -0.238362          -0.412602  \n",
      "2          -0.576832          -0.614156  \n",
      "3           1.225830           1.342507  \n",
      "4           0.837669           1.149304  \n",
      "5          -1.296363          -1.157573  \n"
     ]
    }
   ],
   "source": [
    "from sklearn.preprocessing import StandardScaler\n",
    "\n",
    "#select only the numeric columns for standardization\n",
    "numeric_columns = unemployment_rates.columns[2:]  # Excluding 'Country Name' and 'Indicator Name'\n",
    "\n",
    "#initialize the standard scaler\n",
    "scaler = StandardScaler()\n",
    "\n",
    "#fit and transform the numeric columns\n",
    "unemployment_rates[numeric_columns] = scaler.fit_transform(unemployment_rates[numeric_columns])\n",
    "\n",
    "#check the dataset after standardization\n",
    "print(unemployment_rates.head())"
   ]
  },
  {
   "cell_type": "code",
   "execution_count": 47,
   "id": "19c0ae62",
   "metadata": {},
   "outputs": [],
   "source": [
    "#save the cleaned dataset\n",
    "unemployment_rates.to_csv('cleaned_unemployment_rates.csv', index=False)"
   ]
  },
  {
   "cell_type": "markdown",
   "id": "62596540",
   "metadata": {},
   "source": [
    "### 4) Industrial Production Indices"
   ]
  },
  {
   "cell_type": "markdown",
   "id": "9256b0f5",
   "metadata": {},
   "source": [
    "#### Load and inspect the dataset"
   ]
  },
  {
   "cell_type": "code",
   "execution_count": 48,
   "id": "647617d7",
   "metadata": {},
   "outputs": [
    {
     "name": "stdout",
     "output_type": "stream",
     "text": [
      "  Country Name  Jul-23  Aug-23  Sep-23  Oct-23  Nov-23  Dec-23  Jan-24  \\\n",
      "0      Belgium    91.9    88.4    87.7    92.3    88.5    93.1    89.9   \n",
      "1     Bulgaria   102.2   103.6   101.4   103.3    98.8   102.8    98.6   \n",
      "2      Czechia    99.4    99.9    98.4   101.0    99.8   102.8    99.6   \n",
      "3      Denmark   121.3   120.5   118.6   124.8   129.6   129.0   127.8   \n",
      "4      Germany    96.2    96.0    95.2    95.0    95.3    93.3    94.2   \n",
      "\n",
      "   Feb-24  Mar-24  Apr-24  May-24  Jun-24  \n",
      "0    90.1    93.4    93.7    96.0     NaN  \n",
      "1    98.8    98.4   101.2    97.8     NaN  \n",
      "2   101.7   100.0   100.6    98.4     NaN  \n",
      "3   129.3   126.1   139.3   132.5     NaN  \n",
      "4    94.9    94.6    95.0    92.7     NaN  \n",
      "<class 'pandas.core.frame.DataFrame'>\n",
      "RangeIndex: 33 entries, 0 to 32\n",
      "Data columns (total 13 columns):\n",
      " #   Column        Non-Null Count  Dtype  \n",
      "---  ------        --------------  -----  \n",
      " 0   Country Name  33 non-null     object \n",
      " 1   Jul-23        33 non-null     float64\n",
      " 2   Aug-23        33 non-null     float64\n",
      " 3   Sep-23        33 non-null     float64\n",
      " 4   Oct-23        33 non-null     float64\n",
      " 5   Nov-23        33 non-null     float64\n",
      " 6   Dec-23        33 non-null     float64\n",
      " 7   Jan-24        32 non-null     float64\n",
      " 8   Feb-24        32 non-null     float64\n",
      " 9   Mar-24        32 non-null     float64\n",
      " 10  Apr-24        31 non-null     float64\n",
      " 11  May-24        31 non-null     float64\n",
      " 12  Jun-24        2 non-null      float64\n",
      "dtypes: float64(12), object(1)\n",
      "memory usage: 3.5+ KB\n",
      "None\n",
      "           Jul-23      Aug-23      Sep-23      Oct-23      Nov-23      Dec-23  \\\n",
      "count   33.000000   33.000000   33.000000   33.000000   33.000000   33.000000   \n",
      "mean   100.993939  101.045455  100.687879  101.190909  101.245455  102.036364   \n",
      "std      6.009937    6.210580    6.769590    6.847142    7.854660    8.398207   \n",
      "min     85.700000   87.800000   84.700000   84.700000   87.500000   91.800000   \n",
      "25%     97.900000   98.000000   97.600000   97.600000   97.600000   97.100000   \n",
      "50%    101.100000  101.200000  100.900000  101.100000  101.000000  100.700000   \n",
      "75%    103.200000  104.300000  105.000000  104.500000  104.800000  106.400000   \n",
      "max    121.300000  120.500000  118.600000  124.800000  129.600000  129.000000   \n",
      "\n",
      "           Jan-24      Feb-24      Mar-24      Apr-24      May-24      Jun-24  \n",
      "count   32.000000   32.000000   32.000000   31.000000   31.000000    2.000000  \n",
      "mean   100.993750  101.290625  101.559375  101.429032  100.661290  103.000000  \n",
      "std      7.562042    7.663165    7.035663    9.560341    8.806879   10.889444  \n",
      "min     84.400000   86.400000   87.400000   86.000000   83.700000   95.300000  \n",
      "25%     97.525000   97.700000   96.450000   96.650000   95.500000   99.150000  \n",
      "50%    100.300000  100.950000  101.200000  100.900000   98.800000  103.000000  \n",
      "75%    104.550000  103.725000  104.750000  104.400000  105.100000  106.850000  \n",
      "max    127.800000  129.300000  126.100000  139.300000  132.500000  110.700000  \n"
     ]
    }
   ],
   "source": [
    "#load the industrial production indices dataset\n",
    "industrial_production_indices = pd.read_csv('Industrial_Production_Indices.csv')\n",
    "\n",
    "#display the first few rows to understand the structure\n",
    "print(industrial_production_indices.head())\n",
    "\n",
    "#check the structure and summary of the data\n",
    "print(industrial_production_indices.info())\n",
    "print(industrial_production_indices.describe())"
   ]
  },
  {
   "cell_type": "markdown",
   "id": "9dab542d",
   "metadata": {},
   "source": [
    "#### Handle missing values"
   ]
  },
  {
   "cell_type": "code",
   "execution_count": 49,
   "id": "634e610f",
   "metadata": {},
   "outputs": [
    {
     "name": "stdout",
     "output_type": "stream",
     "text": [
      "\n",
      "Missing values in each column:\n",
      "Country Name     0\n",
      "Jul-23           0\n",
      "Aug-23           0\n",
      "Sep-23           0\n",
      "Oct-23           0\n",
      "Nov-23           0\n",
      "Dec-23           0\n",
      "Jan-24           1\n",
      "Feb-24           1\n",
      "Mar-24           1\n",
      "Apr-24           2\n",
      "May-24           2\n",
      "Jun-24          31\n",
      "dtype: int64\n",
      "\n",
      "Missing values after handling:\n",
      "Country Name    0\n",
      "Jul-23          0\n",
      "Aug-23          0\n",
      "Sep-23          0\n",
      "Oct-23          0\n",
      "Nov-23          0\n",
      "Dec-23          0\n",
      "Jan-24          0\n",
      "Feb-24          0\n",
      "Mar-24          0\n",
      "Apr-24          0\n",
      "May-24          0\n",
      "Jun-24          0\n",
      "dtype: int64\n"
     ]
    }
   ],
   "source": [
    "#check for missing values\n",
    "print(\"\\nMissing values in each column:\")\n",
    "print(industrial_production_indices.isnull().sum())\n",
    "\n",
    "#handle missing values\n",
    "industrial_production_indices.fillna(method='ffill', inplace=True)\n",
    "industrial_production_indices.fillna(method='bfill', inplace=True)\n",
    "\n",
    "# Ensure there are no remaining missing values\n",
    "print(\"\\nMissing values after handling:\")\n",
    "print(industrial_production_indices.isnull().sum())"
   ]
  },
  {
   "cell_type": "markdown",
   "id": "0ca47d01",
   "metadata": {},
   "source": [
    "#### Handling outliers"
   ]
  },
  {
   "cell_type": "code",
   "execution_count": 50,
   "id": "2c816ef8",
   "metadata": {},
   "outputs": [
    {
     "data": {
      "image/png": "[encoded data removed]",
      "text/plain": [
       "<Figure size 1200x600 with 1 Axes>"
      ]
     },
     "metadata": {},
     "output_type": "display_data"
    },
    {
     "data": {
      "image/png": "[encoded data removed]",
      "text/plain": [
       "<Figure size 1200x600 with 1 Axes>"
      ]
     },
     "metadata": {},
     "output_type": "display_data"
    }
   ],
   "source": [
    "import matplotlib.pyplot as plt\n",
    "import seaborn as sns\n",
    "\n",
    "#visualize outliers using a boxplot\n",
    "plt.figure(figsize=(12, 6))\n",
    "sns.boxplot(data=industrial_production_indices.drop(columns=['Country Name']))\n",
    "plt.title('Industrial Production Indices Boxplot')\n",
    "plt.show()\n",
    "\n",
    "#cap outliers to 5th and 95th percentiles\n",
    "for column in industrial_production_indices.columns[2:]:  # Assuming first two columns are non-numeric\n",
    "    lower_bound = industrial_production_indices[column].quantile(0.05)\n",
    "    upper_bound = industrial_production_indices[column].quantile(0.95)\n",
    "    industrial_production_indices[column] = industrial_production_indices[column].clip(lower=lower_bound, upper=upper_bound)\n",
    "\n",
    "#check again for any remaining outliers\n",
    "plt.figure(figsize=(12, 6))\n",
    "sns.boxplot(data=industrial_production_indices.drop(columns=['Country Name']))\n",
    "plt.title('Industrial Production Indices Boxplot (Post-Outlier Handling)')\n",
    "plt.show()\n"
   ]
  },
  {
   "cell_type": "markdown",
   "id": "4594d1d7",
   "metadata": {},
   "source": [
    "#### Performing feature engineering"
   ]
  },
  {
   "cell_type": "code",
   "execution_count": 52,
   "id": "6b6d7b79",
   "metadata": {},
   "outputs": [
    {
     "name": "stdout",
     "output_type": "stream",
     "text": [
      "  Country Name  Jul-23  Aug-23  Sep-23  Oct-23  Nov-23  Dec-23  Jan-24  \\\n",
      "0      Belgium    91.9   91.04   89.20   92.72   90.54    93.1   90.44   \n",
      "1     Bulgaria   102.2  103.60  101.40  103.30   98.80   102.8   98.60   \n",
      "2      Czechia    99.4   99.90   98.40  101.00   99.80   102.8   99.60   \n",
      "3      Denmark   121.3  108.54  109.28  110.20  112.82   118.1  110.38   \n",
      "4      Germany    96.2   96.00   95.20   95.00   95.30    93.3   94.20   \n",
      "\n",
      "   Feb-24  Mar-24  ...  Lag_Sep-23  Lag_Oct-23  Lag_Nov-23  Lag_Dec-23  \\\n",
      "0   90.10   93.76  ...         NaN         NaN         NaN         NaN   \n",
      "1   98.80   98.40  ...       89.20       92.72       90.54        93.1   \n",
      "2  101.70  100.00  ...      101.40      103.30       98.80       102.8   \n",
      "3  110.92  110.42  ...       98.40      101.00       99.80       102.8   \n",
      "4   94.90   94.60  ...      109.28      110.20      112.82       118.1   \n",
      "\n",
      "   Lag_Jan-24  Lag_Feb-24  Lag_Mar-24  Lag_Apr-24  Lag_May-24  Lag_Jun-24  \n",
      "0         NaN         NaN         NaN         NaN         NaN         NaN  \n",
      "1       90.44       90.10       93.76       93.70       96.00        95.3  \n",
      "2       98.60       98.80       98.40      101.20       97.80        95.3  \n",
      "3       99.60      101.70      100.00      100.60       98.40        95.3  \n",
      "4      110.38      110.92      110.42      113.14      111.42        95.3  \n",
      "\n",
      "[5 rows x 25 columns]\n"
     ]
    }
   ],
   "source": [
    "#lag features for each month\n",
    "for column in industrial_production_indices.columns[1:]:  # Skip the first column if it's a non-numeric identifier like 'Country'\n",
    "    industrial_production_indices[f'Lag_{column}'] = industrial_production_indices[column].shift(1)\n",
    "\n",
    "#check the DataFrame after creating lag features\n",
    "print(industrial_production_indices.head())\n"
   ]
  },
  {
   "cell_type": "code",
   "execution_count": 53,
   "id": "16124857",
   "metadata": {},
   "outputs": [
    {
     "name": "stdout",
     "output_type": "stream",
     "text": [
      "  Country Name  Jul-23  Aug-23  Sep-23  Oct-23  Nov-23  Dec-23  Jan-24  \\\n",
      "3      Denmark   121.3  108.54  109.28  110.20  112.82   118.1  110.38   \n",
      "4      Germany    96.2   96.00   95.20   95.00   95.30    93.3   94.20   \n",
      "5      Estonia    85.7   91.04   89.20   92.72   90.54    92.6   90.44   \n",
      "6      Ireland   101.4  104.30  102.80   95.20  102.30   118.1   98.30   \n",
      "7       Greece   104.9  105.90  103.60  110.00  105.50   106.4  110.10   \n",
      "\n",
      "   Feb-24  Mar-24  ...  Rolling_Mean_3_Lag_Feb-24  Rolling_Std_3_Lag_Feb-24  \\\n",
      "3  110.92  110.42  ...                  96.866667                  6.036831   \n",
      "4   94.90   94.60  ...                 103.806667                  6.328675   \n",
      "5   89.98   93.76  ...                 102.506667                  8.040406   \n",
      "6   93.40  103.40  ...                  98.600000                 10.949356   \n",
      "7  108.10  106.40  ...                  92.760000                  2.521666   \n",
      "\n",
      "   Rolling_Mean_3_Lag_Mar-24  Rolling_Std_3_Lag_Mar-24  \\\n",
      "3                  97.386667                  3.241070   \n",
      "4                 102.940000                  6.527082   \n",
      "5                 101.673333                  8.041650   \n",
      "6                  99.593333                  9.385570   \n",
      "7                  97.253333                  5.339713   \n",
      "\n",
      "   Rolling_Mean_3_Lag_Apr-24  Rolling_Std_3_Lag_Apr-24  \\\n",
      "3                  98.500000                  4.167733   \n",
      "4                 104.980000                  7.073132   \n",
      "5                 102.913333                  9.288624   \n",
      "6                  99.426667                 12.122151   \n",
      "7                  95.046667                  4.930166   \n",
      "\n",
      "   Rolling_Mean_3_Lag_May-24  Rolling_Std_3_Lag_May-24  \\\n",
      "3                  97.400000                  1.249000   \n",
      "4                 102.540000                  7.696155   \n",
      "5                 100.840000                  9.595561   \n",
      "6                  98.246667                 11.455747   \n",
      "7                  96.673333                  8.745406   \n",
      "\n",
      "   Rolling_Mean_3_Lag_Jun-24  Rolling_Std_3_Lag_Jun-24  \n",
      "3                       95.3                       0.0  \n",
      "4                       95.3                       0.0  \n",
      "5                       95.3                       0.0  \n",
      "6                       95.3                       0.0  \n",
      "7                       95.3                       0.0  \n",
      "\n",
      "[5 rows x 73 columns]\n"
     ]
    }
   ],
   "source": [
    "#create rolling mean and standard deviation features\n",
    "for column in industrial_production_indices.columns[1:]:\n",
    "    industrial_production_indices[f'Rolling_Mean_3_{column}'] = industrial_production_indices[column].rolling(window=3).mean()\n",
    "    industrial_production_indices[f'Rolling_Std_3_{column}'] = industrial_production_indices[column].rolling(window=3).std()\n",
    "\n",
    "#drop any rows with NaN values resulting from lag/rolling operations\n",
    "industrial_production_indices.dropna(inplace=True)\n",
    "\n",
    "#check the DataFrame after feature engineering\n",
    "print(industrial_production_indices.head())"
   ]
  },
  {
   "cell_type": "markdown",
   "id": "756257e1",
   "metadata": {},
   "source": [
    "#### Standardisation"
   ]
  },
  {
   "cell_type": "code",
   "execution_count": 54,
   "id": "eed5364e",
   "metadata": {},
   "outputs": [
    {
     "name": "stdout",
     "output_type": "stream",
     "text": [
      "  Country Name    Jul-23    Aug-23    Sep-23    Oct-23    Nov-23    Dec-23  \\\n",
      "3      Denmark  3.353273  1.586515  1.502722  1.819710  2.065751  2.303704   \n",
      "4      Germany -0.857190 -1.090169 -1.052220 -1.251531 -1.050484 -1.202752   \n",
      "5      Estonia -2.618539 -2.148889 -2.140974 -1.712217 -1.897133 -1.301725   \n",
      "6      Ireland  0.015097  0.681480  0.326868 -1.211120  0.194587  2.303704   \n",
      "7       Greece  0.602214  1.023003  0.472035  1.779299  0.763762  0.649449   \n",
      "\n",
      "     Jan-24    Feb-24    Mar-24  ...  Rolling_Mean_3_Lag_Feb-24  \\\n",
      "3  1.694057  1.727805  1.632255  ...                  -1.297786   \n",
      "4 -1.316910 -1.174618 -1.390251  ...                   1.001520   \n",
      "5 -2.016616 -2.065998 -1.550738  ...                   0.570814   \n",
      "6 -0.553934 -1.446380  0.291042  ...                  -0.723512   \n",
      "7  1.641951  1.216892  0.864210  ...                  -2.658375   \n",
      "\n",
      "   Rolling_Std_3_Lag_Feb-24  Rolling_Mean_3_Lag_Mar-24  \\\n",
      "3                  0.526703                  -1.530419   \n",
      "4                  0.638092                   0.585497   \n",
      "5                  1.291414                   0.102875   \n",
      "6                  2.401682                  -0.689641   \n",
      "7                 -0.814941                  -1.581222   \n",
      "\n",
      "   Rolling_Std_3_Lag_Mar-24  Rolling_Mean_3_Lag_Apr-24  \\\n",
      "3                 -0.663746                  -0.817747   \n",
      "4                  0.795686                   1.404781   \n",
      "5                  1.468359                   0.695950   \n",
      "6                  2.065240                  -0.499916   \n",
      "7                  0.268335                  -2.002181   \n",
      "\n",
      "   Rolling_Std_3_Lag_Apr-24  Rolling_Mean_3_Lag_May-24  \\\n",
      "3                 -0.662135                  -1.071988   \n",
      "4                  0.303540                   0.794128   \n",
      "5                  1.039908                   0.176930   \n",
      "6                  1.981694                  -0.764599   \n",
      "7                 -0.408723                  -1.335810   \n",
      "\n",
      "   Rolling_Std_3_Lag_May-24  Rolling_Mean_3_Lag_Jun-24  \\\n",
      "3                 -1.508779                  -0.786383   \n",
      "4                  0.544119                  -0.786383   \n",
      "5                  1.148927                  -0.786383   \n",
      "6                  1.741246                  -0.786383   \n",
      "7                  0.878221                  -0.786383   \n",
      "\n",
      "   Rolling_Std_3_Lag_Jun-24  \n",
      "3                 -0.267261  \n",
      "4                 -0.267261  \n",
      "5                 -0.267261  \n",
      "6                 -0.267261  \n",
      "7                 -0.267261  \n",
      "\n",
      "[5 rows x 73 columns]\n"
     ]
    }
   ],
   "source": [
    "from sklearn.preprocessing import StandardScaler\n",
    "\n",
    "#select only the numeric columns for standardization\n",
    "numeric_columns = industrial_production_indices.select_dtypes(include=[np.number]).columns\n",
    "\n",
    "#initialize the standard scaler\n",
    "scaler = StandardScaler()\n",
    "\n",
    "#fit and transform the numeric columns\n",
    "industrial_production_indices[numeric_columns] = scaler.fit_transform(industrial_production_indices[numeric_columns])\n",
    "\n",
    "#check the dataset after standardization\n",
    "print(industrial_production_indices.head())"
   ]
  },
  {
   "cell_type": "code",
   "execution_count": 55,
   "id": "af782b83",
   "metadata": {},
   "outputs": [],
   "source": [
    "#save the cleaned dataset\n",
    "output_filename = 'cleaned_industrial_production_indices.csv'\n",
    "industrial_production_indices.to_csv(output_filename, index=False)"
   ]
  },
  {
   "cell_type": "markdown",
   "id": "75ef47f4",
   "metadata": {},
   "source": [
    "### 5) Energy Prices (Crude Oil)"
   ]
  },
  {
   "cell_type": "markdown",
   "id": "89d54e20",
   "metadata": {},
   "source": [
    "#### Load and inspect the datasets - here we are inspecting the crude oil prices aswell as the exhange rates from USD/EUR, as the oil prices are measured in Dollar"
   ]
  },
  {
   "cell_type": "code",
   "execution_count": 82,
   "id": "e4d2460d",
   "metadata": {},
   "outputs": [
    {
     "name": "stdout",
     "output_type": "stream",
     "text": [
      "         DATE DOLLARS PER BARREL\n",
      "0  22/07/2019              61.96\n",
      "1  23/07/2019              62.28\n",
      "2  24/07/2019              63.83\n",
      "3  25/07/2019              63.47\n",
      "4  26/07/2019              62.46\n",
      "         DATE  US dollar/Euro (EXR.M.USD.EUR.SP00.A)\n",
      "0  31/01/2019                                 1.1416\n",
      "1  28/02/2019                                 1.1351\n",
      "2  31/03/2019                                 1.1302\n",
      "3  30/04/2019                                 1.1238\n",
      "4  31/05/2019                                 1.1185\n"
     ]
    }
   ],
   "source": [
    "import pandas as pd\n",
    "import numpy as np\n",
    "\n",
    "#load the datasets\n",
    "crude_oil_prices = pd.read_csv('crude_oil_prices.csv')\n",
    "exchange_rate_usd_eur = pd.read_csv('exchange_rate_usd_eur.csv')\n",
    "\n",
    "#display the first few rows of each dataset to understand the structure\n",
    "print(crude_oil_prices.head())\n",
    "print(exchange_rate_usd_eur.head())\n"
   ]
  },
  {
   "cell_type": "markdown",
   "id": "6e7507dc",
   "metadata": {},
   "source": [
    "#### Check for non-numeric values"
   ]
  },
  {
   "cell_type": "code",
   "execution_count": 83,
   "id": "4be1cdab",
   "metadata": {},
   "outputs": [
    {
     "name": "stdout",
     "output_type": "stream",
     "text": [
      "Unique values in 'Price' column:\n",
      "['61.96' '62.28' '63.83' ... '86.6' '86.26' '85.19']\n",
      "Unique values in 'Exchange Rate' column:\n",
      "[1.1416 1.1351 1.1302 1.1238 1.1185 1.1293 1.1218 1.1126 1.1004 1.1053\n",
      " 1.1051 1.1113 1.11   1.0905 1.1063 1.0862 1.0902 1.1255 1.1463 1.1828\n",
      " 1.1792 1.1775 1.1838 1.217  1.2171 1.2098 1.1899 1.1979 1.2146 1.2047\n",
      " 1.1822 1.1772 1.177  1.1601 1.1414 1.1304 1.1314 1.1342 1.1019 1.0819\n",
      " 1.0579 1.0566 1.0179 1.0128 0.9904 0.9826 1.0201 1.0589 1.0769 1.0715\n",
      " 1.0706 1.0968 1.0868 1.084  1.1058 1.0909 1.0684 1.0563 1.0808 1.0903\n",
      " 1.0795 1.0872 1.0728 1.0812 1.0759]\n"
     ]
    }
   ],
   "source": [
    "#check for non-numeric values in the 'Price' column\n",
    "print(\"Unique values in 'Price' column:\")\n",
    "print(crude_oil_prices['DOLLARS PER BARREL'].unique())\n",
    "\n",
    "#check for non-numeric values in the 'Exchange Rate' column\n",
    "print(\"Unique values in 'Exchange Rate' column:\")\n",
    "print(exchange_rate_usd_eur['US dollar/Euro (EXR.M.USD.EUR.SP00.A)'].unique())\n"
   ]
  },
  {
   "cell_type": "markdown",
   "id": "e3546326",
   "metadata": {},
   "source": [
    "#### Cleaning the data"
   ]
  },
  {
   "cell_type": "code",
   "execution_count": 84,
   "id": "0fb3d0c5",
   "metadata": {},
   "outputs": [],
   "source": [
    "#remove any non-numeric characters\n",
    "crude_oil_prices['DOLLARS PER BARREL'] = pd.to_numeric(crude_oil_prices['DOLLARS PER BARREL'], errors='coerce')\n",
    "exchange_rate_usd_eur['US dollar/Euro (EXR.M.USD.EUR.SP00.A)'] = pd.to_numeric(exchange_rate_usd_eur['US dollar/Euro (EXR.M.USD.EUR.SP00.A)'], errors='coerce')\n",
    "\n",
    "#drop any rows with NaN values\n",
    "crude_oil_prices.dropna(subset=['DOLLARS PER BARREL'], inplace=True)\n",
    "exchange_rate_usd_eur.dropna(subset=['US dollar/Euro (EXR.M.USD.EUR.SP00.A)'], inplace=True)"
   ]
  },
  {
   "cell_type": "markdown",
   "id": "d4ce3a7f",
   "metadata": {},
   "source": [
    "#### Converting dates to datetime format"
   ]
  },
  {
   "cell_type": "code",
   "execution_count": 85,
   "id": "fac3c3f5",
   "metadata": {},
   "outputs": [],
   "source": [
    "#convert 'DATE' columns to datetime format for both datasets\n",
    "crude_oil_prices['DATE'] = pd.to_datetime(crude_oil_prices['DATE'], dayfirst=True)\n",
    "exchange_rate_usd_eur['DATE'] = pd.to_datetime(exchange_rate_usd_eur['DATE'], dayfirst=True)"
   ]
  },
  {
   "cell_type": "markdown",
   "id": "acb338a5",
   "metadata": {},
   "source": [
    "#### Renaming columns"
   ]
  },
  {
   "cell_type": "code",
   "execution_count": 86,
   "id": "e8badd2e",
   "metadata": {},
   "outputs": [],
   "source": [
    "#rename columns for consistency\n",
    "crude_oil_prices.rename(columns={'DATE': 'Date', 'DOLLARS PER BARREL': 'Price'}, inplace=True)\n",
    "exchange_rate_usd_eur.rename(columns={'DATE': 'Date', 'US dollar/Euro (EXR.M.USD.EUR.SP00.A)': 'Exchange_Rate'}, inplace=True)"
   ]
  },
  {
   "cell_type": "markdown",
   "id": "5b7f8284",
   "metadata": {},
   "source": [
    "#### Merging the datasets and calculating the prices in euros"
   ]
  },
  {
   "cell_type": "code",
   "execution_count": 87,
   "id": "4390108b",
   "metadata": {},
   "outputs": [
    {
     "name": "stdout",
     "output_type": "stream",
     "text": [
      "Merged Dataset:\n",
      "        Date  Price  Exchange_Rate\n",
      "0 2019-07-31  64.07         1.1218\n",
      "1 2019-09-30  60.99         1.1004\n",
      "2 2019-10-31  59.30         1.1053\n",
      "3 2019-12-31  67.77         1.1113\n",
      "4 2020-01-31  57.77         1.1100\n"
     ]
    }
   ],
   "source": [
    "#merge the datasets on 'Date'\n",
    "merged_data = pd.merge(crude_oil_prices, exchange_rate_usd_eur, on='Date', how='inner')\n",
    "\n",
    "#display the first few rows of the merged dataset\n",
    "print(\"Merged Dataset:\")\n",
    "print(merged_data.head())"
   ]
  },
  {
   "cell_type": "code",
   "execution_count": 97,
   "id": "3dc5fc07",
   "metadata": {},
   "outputs": [
    {
     "name": "stdout",
     "output_type": "stream",
     "text": [
      "Merged Dataset with Converted Prices:\n",
      "        Date  Exchange_Rate  Price_EUR\n",
      "0 2019-07-31         1.1218  57.113567\n",
      "1 2019-09-30         1.1004  55.425300\n",
      "2 2019-10-31         1.1053  53.650593\n",
      "3 2019-12-31         1.1113  60.982633\n",
      "4 2020-01-31         1.1100  52.045045\n"
     ]
    }
   ],
   "source": [
    "#calculate the crude oil prices in EUR\n",
    "\n",
    "#display the first few rows of the dataset with converted prices\n",
    "print(\"Merged Dataset with Converted Prices:\")\n",
    "print(merged_data.head())"
   ]
  },
  {
   "cell_type": "code",
   "execution_count": 100,
   "id": "ca9a3b03",
   "metadata": {},
   "outputs": [
    {
     "name": "stdout",
     "output_type": "stream",
     "text": [
      "Column names in merged_data:\n",
      "Index(['Date', 'Exchange_Rate', 'Price_EUR'], dtype='object')\n"
     ]
    }
   ],
   "source": [
    "#check the column names in the merged_data DataFrame - columns do not include Price, as it was removed\n",
    "print(\"Column names in merged_data:\")\n",
    "print(merged_data.columns)"
   ]
  },
  {
   "cell_type": "markdown",
   "id": "632baf85",
   "metadata": {},
   "source": [
    "#### Exploratory Data Analysis"
   ]
  },
  {
   "cell_type": "code",
   "execution_count": 101,
   "id": "d596d088",
   "metadata": {},
   "outputs": [
    {
     "data": {
      "image/png": "[encoded data removed]",
      "text/plain": [
       "<Figure size 1200x600 with 1 Axes>"
      ]
     },
     "metadata": {},
     "output_type": "display_data"
    }
   ],
   "source": [
    "import matplotlib.pyplot as plt\n",
    "\n",
    "#plot the crude oil prices in EUR over time\n",
    "plt.figure(figsize=(12, 6))\n",
    "plt.plot(merged_data['Date'], merged_data['Price_EUR'], label='Price in EUR')\n",
    "plt.title('Crude Oil Prices in EUR Over Time')\n",
    "plt.xlabel('Date')\n",
    "plt.ylabel('Price (EUR)')\n",
    "plt.xticks(rotation=45)\n",
    "plt.grid(True)\n",
    "plt.legend()\n",
    "plt.show()"
   ]
  },
  {
   "cell_type": "code",
   "execution_count": 102,
   "id": "666c17cd",
   "metadata": {},
   "outputs": [
    {
     "name": "stdout",
     "output_type": "stream",
     "text": [
      "Missing values in each column:\n",
      "Date             0\n",
      "Exchange_Rate    0\n",
      "Price_EUR        0\n",
      "dtype: int64\n"
     ]
    }
   ],
   "source": [
    "#check for missing values\n",
    "missing_values = merged_data.isnull().sum()\n",
    "print(\"Missing values in each column:\")\n",
    "print(missing_values)"
   ]
  },
  {
   "cell_type": "code",
   "execution_count": 103,
   "id": "9dc6b521",
   "metadata": {},
   "outputs": [
    {
     "name": "stdout",
     "output_type": "stream",
     "text": [
      "Summary Statistics for Price in EUR:\n",
      "count     41.000000\n",
      "mean      67.985408\n",
      "std       22.830324\n",
      "min       13.423122\n",
      "25%       55.425300\n",
      "50%       68.736162\n",
      "75%       81.624536\n",
      "max      118.659609\n",
      "Name: Price_EUR, dtype: float64\n"
     ]
    }
   ],
   "source": [
    "#get summary statistics\n",
    "summary_stats = merged_data['Price_EUR'].describe()\n",
    "print(\"Summary Statistics for Price in EUR:\")\n",
    "print(summary_stats)"
   ]
  },
  {
   "cell_type": "code",
   "execution_count": 105,
   "id": "26ae242d",
   "metadata": {},
   "outputs": [
    {
     "name": "stdout",
     "output_type": "stream",
     "text": [
      "        Date  Exchange_Rate  Price_EUR  Lag_Price  Rolling_Mean_7\n",
      "0 2019-07-31         1.1218  57.113567        NaN             NaN\n",
      "1 2019-09-30         1.1004  55.425300  57.113567             NaN\n",
      "2 2019-10-31         1.1053  53.650593  55.425300             NaN\n",
      "3 2019-12-31         1.1113  60.982633  53.650593             NaN\n",
      "4 2020-01-31         1.1100  52.045045  60.982633             NaN\n",
      "5 2020-03-31         1.1063  13.423122  52.045045             NaN\n",
      "6 2020-04-30         1.0862  16.672804  13.423122       44.187581\n",
      "7 2020-06-30         1.1255  36.996890  16.672804       41.313770\n",
      "8 2020-07-31         1.1463  37.625403  36.996890       38.770927\n",
      "9 2020-09-30         1.1792  34.175712  37.625403       35.988801\n"
     ]
    }
   ],
   "source": [
    "#create lag features\n",
    "merged_data['Lag_Price'] = merged_data['Price_EUR'].shift(1)\n",
    "\n",
    "#create a rolling average (e.g., 7-day moving average)\n",
    "merged_data['Rolling_Mean_7'] = merged_data['Price_EUR'].rolling(window=7).mean()\n",
    "\n",
    "#display the first few rows to verify new features\n",
    "print(merged_data.head(10))"
   ]
  },
  {
   "cell_type": "code",
   "execution_count": 106,
   "id": "42465d0e",
   "metadata": {},
   "outputs": [
    {
     "name": "stdout",
     "output_type": "stream",
     "text": [
      "         Date  Exchange_Rate  Price_EUR  Lag_Price  Rolling_Mean_7\n",
      "6  2020-04-30         1.0862  16.672804  13.423122       44.187581\n",
      "7  2020-06-30         1.1255  36.996890  16.672804       41.313770\n",
      "8  2020-07-31         1.1463  37.625403  36.996890       38.770927\n",
      "9  2020-09-30         1.1792  34.175712  37.625403       35.988801\n",
      "10 2020-11-30         1.1838  39.567495  34.175712       32.929496\n",
      "11 2020-12-31         1.2170  42.087099  39.567495       31.506932\n",
      "12 2021-03-31         1.1899  53.382637  42.087099       37.215434\n",
      "13 2021-04-30         1.1979  56.540613  53.382637       42.910836\n",
      "14 2021-06-30         1.2047  63.866523  56.540613       46.749355\n",
      "15 2021-08-31         1.1772  62.393816  63.866523       50.287699\n"
     ]
    }
   ],
   "source": [
    "#drop rows with NaN values resulting from Lag/Rolling mean operations\n",
    "merged_data.dropna(inplace=True)\n",
    "\n",
    "#verify the changes\n",
    "print(merged_data.head(10))"
   ]
  },
  {
   "cell_type": "markdown",
   "id": "b1679419",
   "metadata": {},
   "source": [
    "#### Standardise the dataset"
   ]
  },
  {
   "cell_type": "code",
   "execution_count": 107,
   "id": "78abfa5d",
   "metadata": {},
   "outputs": [
    {
     "name": "stdout",
     "output_type": "stream",
     "text": [
      "         Date  Exchange_Rate  Price_EUR  Lag_Price  Rolling_Mean_7\n",
      "6  2020-04-30         1.0862  -2.499292  -2.351638       -1.161244\n",
      "7  2020-06-30         1.1255  -1.569070  -2.215514       -1.299260\n",
      "8  2020-07-31         1.1463  -1.540303  -1.364175       -1.421382\n",
      "9  2020-09-30         1.1792  -1.698193  -1.337848       -1.554995\n",
      "10 2020-11-30         1.1838  -1.451414  -1.482349       -1.701920\n",
      "11 2020-12-31         1.2170  -1.336093  -1.256497       -1.770239\n",
      "12 2021-03-31         1.1899  -0.819103  -1.150956       -1.496085\n",
      "13 2021-04-30         1.1979  -0.674564  -0.677806       -1.222560\n",
      "14 2021-06-30         1.2047  -0.339261  -0.545524       -1.038214\n",
      "15 2021-08-31         1.1772  -0.406666  -0.238655       -0.868283\n"
     ]
    }
   ],
   "source": [
    "from sklearn.preprocessing import StandardScaler\n",
    "\n",
    "#select numeric columns for standardization\n",
    "numeric_cols = ['Price_EUR', 'Lag_Price', 'Rolling_Mean_7']\n",
    "\n",
    "#initialize the standard scaler\n",
    "scaler = StandardScaler()\n",
    "\n",
    "#fit and transform the numeric columns\n",
    "merged_data[numeric_cols] = scaler.fit_transform(merged_data[numeric_cols])\n",
    "\n",
    "#check the first few rows to ensure standardization\n",
    "print(merged_data.head(10))"
   ]
  },
  {
   "cell_type": "code",
   "execution_count": 108,
   "id": "fb0e2461",
   "metadata": {},
   "outputs": [],
   "source": [
    "#save the cleaned and transformed dataset\n",
    "output_filename = 'cleaned_crude_oil_prices.csv'\n",
    "merged_data.to_csv(output_filename, index=False)"
   ]
  },
  {
   "cell_type": "markdown",
   "id": "d4362cbd",
   "metadata": {},
   "source": [
    "## Load, Explore and Preprocess Regulatory Changes"
   ]
  },
  {
   "cell_type": "code",
   "execution_count": 109,
   "id": "80aa245e",
   "metadata": {},
   "outputs": [
    {
     "name": "stdout",
     "output_type": "stream",
     "text": [
      "         Date                           Regulation   \\\n",
      "0  11/07/2024              EU ETS Allowances Update   \n",
      "1  23/07/2024        Revised CCS Directive Guidance   \n",
      "2  11/07/2024       Modernisation Fund Disbursement   \n",
      "3  18/06/2024    Innovation Fund Cleantech Projects   \n",
      "4  10/06/2024  CO2 Emissions from New Cars and Vans   \n",
      "\n",
      "                                        Description   \n",
      "0  Update on the quantity of cancelled EU ETS all...  \n",
      "1  Updates to the CCS Directive to streamline per...  \n",
      "2  EU disbursed nearly €3 billion to support 39 e...  \n",
      "3  The Innovation Fund allocated €173 million to ...  \n",
      "4  Decrease in CO2 emissions from new cars and va...  \n"
     ]
    }
   ],
   "source": [
    "import pandas as pd\n",
    "\n",
    "#load the dataset\n",
    "regulation_changes = pd.read_csv('regulation_changes.csv')\n",
    "\n",
    "#display the first few rows of the dataset\n",
    "print(regulation_changes.head())"
   ]
  },
  {
   "cell_type": "code",
   "execution_count": 110,
   "id": "ebf0d4a4",
   "metadata": {},
   "outputs": [
    {
     "name": "stdout",
     "output_type": "stream",
     "text": [
      "<class 'pandas.core.frame.DataFrame'>\n",
      "RangeIndex: 10 entries, 0 to 9\n",
      "Data columns (total 3 columns):\n",
      " #   Column        Non-Null Count  Dtype \n",
      "---  ------        --------------  ----- \n",
      " 0   Date          10 non-null     object\n",
      " 1   Regulation    10 non-null     object\n",
      " 2   Description   10 non-null     object\n",
      "dtypes: object(3)\n",
      "memory usage: 372.0+ bytes\n",
      "None\n",
      "              Date               Regulation   \\\n",
      "count           10                        10   \n",
      "unique           6                        10   \n",
      "top     11/07/2024  EU ETS Allowances Update   \n",
      "freq             4                         1   \n",
      "\n",
      "                                             Description   \n",
      "count                                                  10  \n",
      "unique                                                 10  \n",
      "top     Update on the quantity of cancelled EU ETS all...  \n",
      "freq                                                    1  \n",
      "Date            0\n",
      "Regulation      0\n",
      "Description     0\n",
      "dtype: int64\n"
     ]
    }
   ],
   "source": [
    "#check the structure and data types of the dataset\n",
    "print(regulation_changes.info())\n",
    "\n",
    "#summary statistics (useful for identifying any immediate data issues)\n",
    "print(regulation_changes.describe(include='all'))\n",
    "\n",
    "#check for missing values\n",
    "print(regulation_changes.isnull().sum())"
   ]
  },
  {
   "cell_type": "markdown",
   "id": "31d5a026",
   "metadata": {},
   "source": [
    "#### Feature engineering - date features and text features"
   ]
  },
  {
   "cell_type": "code",
   "execution_count": 111,
   "id": "ba850a94",
   "metadata": {},
   "outputs": [],
   "source": [
    "#convert 'Date' column to datetime\n",
    "regulation_changes['Date'] = pd.to_datetime(regulation_changes['Date'], dayfirst=True)\n",
    "\n",
    "#extract year and month as separate features\n",
    "regulation_changes['Year'] = regulation_changes['Date'].dt.year\n",
    "regulation_changes['Month'] = regulation_changes['Date'].dt.month"
   ]
  },
  {
   "cell_type": "markdown",
   "id": "54d6fa5d",
   "metadata": {},
   "source": [
    "#### Text-based features"
   ]
  },
  {
   "cell_type": "code",
   "execution_count": 113,
   "id": "d873eb5a",
   "metadata": {},
   "outputs": [
    {
     "name": "stdout",
     "output_type": "stream",
     "text": [
      "Index(['Date', 'Regulation ', 'Description ', 'Year', 'Month'], dtype='object')\n"
     ]
    }
   ],
   "source": [
    "#print the column names\n",
    "print(regulation_changes.columns)"
   ]
  },
  {
   "cell_type": "code",
   "execution_count": 114,
   "id": "0d357205",
   "metadata": {},
   "outputs": [
    {
     "name": "stdout",
     "output_type": "stream",
     "text": [
      "Index(['Date', 'Regulation', 'Description', 'Year', 'Month'], dtype='object')\n"
     ]
    }
   ],
   "source": [
    "#check and strip any whitespace from column names\n",
    "regulation_changes.columns = regulation_changes.columns.str.strip()\n",
    "\n",
    "#re-run to verify column names again\n",
    "print(regulation_changes.columns)"
   ]
  },
  {
   "cell_type": "code",
   "execution_count": 115,
   "id": "f95e2d93",
   "metadata": {},
   "outputs": [],
   "source": [
    "from sklearn.feature_extraction.text import TfidfVectorizer\n",
    "\n",
    "#initialize TF-IDF Vectorizer\n",
    "tfidf_vectorizer = TfidfVectorizer(max_features=100)  # Adjust feature size as needed\n",
    "\n",
    "#fit and transform the 'Description' column\n",
    "description_tfidf = tfidf_vectorizer.fit_transform(regulation_changes['Description'])\n",
    "\n",
    "#convert TF-IDF matrix to a DataFrame\n",
    "description_df = pd.DataFrame(description_tfidf.toarray(), columns=tfidf_vectorizer.get_feature_names_out())\n",
    "\n",
    "#concatenate TF-IDF features with the main DataFrame\n",
    "regulation_changes = pd.concat([regulation_changes, description_df], axis=1)"
   ]
  },
  {
   "cell_type": "code",
   "execution_count": 116,
   "id": "442f45f7",
   "metadata": {},
   "outputs": [],
   "source": [
    "#save the preprocessed regulation changes data to a CSV file\n",
    "regulation_changes.to_csv('cleaned_regulation_changes.csv', index=False)"
   ]
  }
 ],
 "metadata": {
  "kernelspec": {
   "display_name": "Python 3 (ipykernel)",
   "language": "python",
   "name": "python3"
  },
  "language_info": {
   "codemirror_mode": {
    "name": "ipython",
    "version": 3
   },
   "file_extension": ".py",
   "mimetype": "text/x-python",
   "name": "python",
   "nbconvert_exporter": "python",
   "pygments_lexer": "ipython3",
   "version": "3.11.5"
  }
 },
 "nbformat": 4,
 "nbformat_minor": 5
}
